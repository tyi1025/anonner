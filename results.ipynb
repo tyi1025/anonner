{
 "cells": [
  {
   "cell_type": "code",
   "execution_count": 2,
   "metadata": {},
   "outputs": [],
   "source": [
    "import pandas as pd"
   ]
  },
  {
   "cell_type": "code",
   "execution_count": 24,
   "metadata": {},
   "outputs": [],
   "source": [
    "\n",
    "\n",
    "def calcmetrics(filepath, dataset, algo): # not finished! take which metrics? draw what plots?\n",
    "    df = pd.read_csv(filepath)\n",
    "    \n",
    "    accmean = df['IOB Accuracy'].mean()\n",
    "    accmedian = df['IOB Accuracy'].median()\n",
    "    accstd = df['IOB Accuracy'].std()\n",
    "    \n",
    "    premean = df['Precision:'].mean()\n",
    "    premedian = df['Precision:'].median()\n",
    "    prestd = df['Precision:'].std()\n",
    "    \n",
    "    recmean = df['Recall'].mean()\n",
    "    recmedian = df['Recall'].median()\n",
    "    recstd = df['Recall'].std()\n",
    "    \n",
    "    fmean = df['F-Measure'].mean()\n",
    "    fmedian = df['F-Measure'].median()\n",
    "    fstd = df['F-Measure'].std()\n",
    "    \n",
    "    print('The metrics of ' + dataset + ', ' + algo)\n",
    "#     print('IOB Accuracy:')\n",
    "#     print('Mean: ' + str(accmean))\n",
    "#     print('Median: ' + str(accmedian))\n",
    "#     print('Standard deviation: ' + str(accstd))\n",
    "#     print('Precision:')\n",
    "#     print('Mean: ' + str(premean))\n",
    "#     print('Median: ' + str(premedian))\n",
    "#     print('Standard deviation: ' + str(prestd))\n",
    "#     print('Recall:')\n",
    "#     print('Mean: ' + str(recmean))\n",
    "#     print('Median: ' + str(recmedian))\n",
    "#     print('Standard deviation: ' + str(recstd))\n",
    "    print('F-Measure:')\n",
    "    print('Mean: ' + str(fmean))\n",
    "#     print('Median: ' + str(fmedian))\n",
    "#     print('Standard deviation: ' + str(fstd))\n",
    "\n"
   ]
  },
  {
   "cell_type": "code",
   "execution_count": 25,
   "metadata": {},
   "outputs": [
    {
     "name": "stdout",
     "output_type": "stream",
     "text": [
      "The metrics of CoNLL2003Ger, megam\n",
      "F-Measure:\n",
      "Mean: 0.6021021195368349\n",
      "The metrics of GermEval2014, megam\n",
      "F-Measure:\n",
      "Mean: 0.422921688676224\n",
      "The metrics of CoNLL2003Eng, megam\n",
      "F-Measure:\n",
      "Mean: 0.7293794759235209\n",
      "The metrics of SEC-filings, megam\n",
      "F-Measure:\n",
      "Mean: 0.7261547349440259\n",
      "The metrics of WNUT17, megam\n",
      "F-Measure:\n",
      "Mean: 0.2703112184184349\n",
      "The metrics of CoNLL2003Ger, IIS\n",
      "F-Measure:\n",
      "Mean: 0.6048123934824972\n",
      "The metrics of LegalER, IIS\n",
      "F-Measure:\n",
      "Mean: 0.5823720275277485\n",
      "The metrics of GermEval2014, IIS\n",
      "F-Measure:\n",
      "Mean: 0.4982302480281267\n",
      "The metrics of CoNLL2003Eng, IIS\n",
      "F-Measure:\n",
      "Mean: 0.8066818503969699\n",
      "The metrics of SEC-filings, IIS\n",
      "F-Measure:\n",
      "Mean: 0.6763030059286429\n",
      "The metrics of WNUT17, IIS\n",
      "F-Measure:\n",
      "Mean: 0.2289231316442674\n",
      "The metrics of CoNLL2003Ger, GIS\n",
      "F-Measure:\n",
      "Mean: 0.6213676363054861\n",
      "The metrics of LegalER, GIS\n",
      "F-Measure:\n",
      "Mean: 0.6683648962239099\n",
      "The metrics of GermEval2014, GIS\n",
      "F-Measure:\n",
      "Mean: 0.5224595387427085\n",
      "The metrics of CoNLL2003Eng, GIS\n",
      "F-Measure:\n",
      "Mean: 0.8340378728677568\n",
      "The metrics of SEC-filings, GIS\n",
      "F-Measure:\n",
      "Mean: 0.7003110604191515\n",
      "The metrics of WNUT17, GIS\n",
      "F-Measure:\n",
      "Mean: 0.2558393079665288\n"
     ]
    }
   ],
   "source": [
    "calcmetrics('../../results/1st.csv', 'CoNLL2003Ger', 'megam')\n",
    "calcmetrics('../../results/3rd.csv', 'GermEval2014', 'megam')\n",
    "calcmetrics('../../results/4th.csv', 'CoNLL2003Eng', 'megam')\n",
    "calcmetrics('../../results/5th.csv', 'SEC-filings', 'megam')\n",
    "calcmetrics('../../results/6th.csv', 'WNUT17', 'megam')\n",
    "calcmetrics('../../results/7th.csv', 'CoNLL2003Ger', 'IIS')\n",
    "calcmetrics('../../results/8th.csv', 'LegalER', 'IIS')\n",
    "calcmetrics('../../results/9th.csv', 'GermEval2014', 'IIS')\n",
    "calcmetrics('../../results/10th.csv', 'CoNLL2003Eng', 'IIS')\n",
    "calcmetrics('../../results/11th.csv', 'SEC-filings', 'IIS')\n",
    "calcmetrics('../../results/12th.csv', 'WNUT17', 'IIS')\n",
    "calcmetrics('../../results/13th.csv', 'CoNLL2003Ger', 'GIS')\n",
    "calcmetrics('../../results/14th.csv', 'LegalER', 'GIS')\n",
    "calcmetrics('../../results/15th.csv', 'GermEval2014', 'GIS')\n",
    "calcmetrics('../../results/16th.csv', 'CoNLL2003Eng', 'GIS')\n",
    "calcmetrics('../../results/17th.csv', 'SEC-filings', 'GIS')\n",
    "calcmetrics('../../results/18th.csv', 'WNUT17', 'GIS')"
   ]
  },
  {
   "cell_type": "code",
   "execution_count": 8,
   "metadata": {},
   "outputs": [
    {
     "data": {
      "image/png": "[encoded data removed]",
      "text/plain": [
       "<Figure size 432x288 with 1 Axes>"
      ]
     },
     "metadata": {
      "needs_background": "light"
     },
     "output_type": "display_data"
    }
   ],
   "source": [
    "df = pd.read_csv(path)\n",
    "df.plot.bar();"
   ]
  },
  {
   "cell_type": "code",
   "execution_count": null,
   "metadata": {},
   "outputs": [],
   "source": [
    "# final model NER confusion matrix, anonymization. print time!"
   ]
  }
 ],
 "metadata": {
  "kernelspec": {
   "display_name": "Python 3",
   "language": "python",
   "name": "python3"
  },
  "language_info": {
   "codemirror_mode": {
    "name": "ipython",
    "version": 3
   },
   "file_extension": ".py",
   "mimetype": "text/x-python",
   "name": "python",
   "nbconvert_exporter": "python",
   "pygments_lexer": "ipython3",
   "version": "3.5.2"
  }
 },
 "nbformat": 4,
 "nbformat_minor": 4
}
